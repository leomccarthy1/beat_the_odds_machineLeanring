{
 "cells": [
  {
   "cell_type": "code",
   "execution_count": 86,
   "metadata": {},
   "outputs": [
    {
     "name": "stderr",
     "output_type": "stream",
     "text": [
      "/opt/anaconda3/envs/myenv/lib/python3.7/site-packages/IPython/core/interactiveshell.py:3063: DtypeWarning: Columns (22,26) have mixed types.Specify dtype option on import or set low_memory=False.\n",
      "  interactivity=interactivity, compiler=compiler, result=result)\n"
     ]
    }
   ],
   "source": [
    "import pandas as pd\n",
    "\n",
    "HrStat = pd.read_csv(\"/Users/leomccarthy/Documents/Projects/Horse_racing/FlatStats/flatstats_04_09_19-2.csv\", delimiter=',', header = 0) \n",
    "HrRes = pd.read_csv(\"/Users/leomccarthy/Documents/Projects/Horse_racing/RBD results/RBDResultsSep-Mar.csv\", delimiter=',', header = 0) "
   ]
  },
  {
   "cell_type": "code",
   "execution_count": 87,
   "metadata": {},
   "outputs": [],
   "source": [
    "from datetime import datetime\n",
    "\n",
    "HrStat[\"RACE_TIME\"] = HrStat[\"RACE_TIME\"] + \"pm\"\n",
    "\n",
    "HrStat[\"RACE_TIME\"] = pd.to_datetime(HrStat[\"RACE_TIME\"].astype(str),format = '%I:%M%p').dt.strftime(\"%H:%M:%S\")\n",
    "HrRes['Time'] = pd.to_datetime(HrRes['Time'],format = '%I:%M%p').dt.strftime(\"%H:%M:%S\")\n",
    "\n"
   ]
  },
  {
   "cell_type": "code",
   "execution_count": 88,
   "metadata": {},
   "outputs": [],
   "source": [
    "HrRes[\"ID\"] = HrRes[\"Date\"].astype(str) + HrRes[\"Time\"].astype(str) + HrRes[\"Stall\"].astype(str)"
   ]
  },
  {
   "cell_type": "code",
   "execution_count": 89,
   "metadata": {},
   "outputs": [],
   "source": [
    "HrStat[\"ID\"] = HrStat[\"RACE_DATE\"].astype(str) + HrStat[\"RACE_TIME\"].astype(str) + HrStat[\"DRAWN\"].astype(str) + \".0\""
   ]
  },
  {
   "cell_type": "code",
   "execution_count": 90,
   "metadata": {},
   "outputs": [],
   "source": [
    "HrData = pd.merge(HrStat,HrRes[['ID', 'Place', 'Horse','Industry SP', \"SP Fav\", \"Betfair SP\"]], on= 'ID')"
   ]
  },
  {
   "cell_type": "code",
   "execution_count": 91,
   "metadata": {},
   "outputs": [],
   "source": [
    "HrData = HrData.assign(Win=0)\n",
    "HrData.loc[HrData['Place'] == \"1\", 'Win'] = 1"
   ]
  },
  {
   "cell_type": "code",
   "execution_count": 100,
   "metadata": {},
   "outputs": [],
   "source": [
    "HrPredictors = HrData.drop(['RACE_DATE', 'RACE_TIME', 'COURSE','TRAINER', 'JOCKEY',\"HORSE\",'FORM', 'FORM_D','SIRE', \n",
    "                            'DAM','DAM_SIRE', 'OWNER','EVENT_ID','SELECTION_ID', 'ID', 'Place', 'Horse','R_CARD_NO',\n",
    "                            \"Betfair SP\",\"SP Fav\"\n",
    "                           ], axis = 1)\n",
    "\n",
    "HrPredictors[\"LTO_POS\"].fillna(999, inplace = True)\n",
    "HrPredictors.fillna(\"NotAvail\", inplace = True)\n"
   ]
  },
  {
   "cell_type": "code",
   "execution_count": 101,
   "metadata": {},
   "outputs": [],
   "source": [
    "from sklearn import preprocessing\n",
    "\n",
    "cat_cols = HrPredictors.columns[HrPredictors.dtypes==object].tolist()\n",
    "le = preprocessing.LabelEncoder()\n",
    "\n",
    "HrPredictors[cat_cols] = HrPredictors[cat_cols].apply(lambda col: \n",
    "                                                      le.fit_transform(col))"
   ]
  },
  {
   "cell_type": "code",
   "execution_count": 146,
   "metadata": {},
   "outputs": [],
   "source": [
    "X = HrPredictors.drop([\"Win\",'BF_WIN', 'BF_POS','ODDS','Industry SP'], axis = 1)\n",
    "\n",
    "#X = HrPredictors[final_features]\n",
    "y = HrPredictors.loc[:,['Win','Industry SP']]\n",
    "\n"
   ]
  },
  {
   "cell_type": "code",
   "execution_count": 156,
   "metadata": {},
   "outputs": [
    {
     "data": {
      "text/plain": [
       "Index(['GOING', 'TRACK_TYPE', 'AGES', 'HORSE_TYPE', 'GENDERS', 'RIDER_TYPE',\n",
       "       'CONDITIONS', 'RACE_TYPE', 'PRIZE_1', 'O_CLASS', 'DISTANCE', 'RUNNERS',\n",
       "       'LAST_RAN', 'LTO_POS', 'AGE', 'WEIGHT', 'HEADGEAR', 'ALLOWANCE',\n",
       "       'DRAWN', 'J_PARETO', 'T_PARETO', 'S_PARETO', 'BF_PLACE', 'RATING',\n",
       "       'RANK', 'PROB', 'J_SCORE', 'T_SCORE', 'S_SCORE', 'GENDER', 'TFI',\n",
       "       'AE_ALL', 'AE_50', 'AE_28', 'ROI_ALL', 'ROI_50', 'ROI_28', 'RUNS_ALL',\n",
       "       'RUNS_28', 'PLC_ALL', 'PLC_50', 'PLC_28', 'DS_WIN', 'RS_WIN', 'TF2_365',\n",
       "       'TF2_84', 'TF2_28', 'TF2_14', 'TF2_7', 'TOT_RUNS', 'G_3', 'LTO_SP_RUN',\n",
       "       'LTO_SR_POS'],\n",
       "      dtype='object')"
      ]
     },
     "execution_count": 156,
     "metadata": {},
     "output_type": "execute_result"
    }
   ],
   "source": []
  },
  {
   "cell_type": "code",
   "execution_count": 120,
   "metadata": {},
   "outputs": [
    {
     "name": "stdout",
     "output_type": "stream",
     "text": [
      "Iteration: \t1 / 100\n",
      "Confirmed: \t0\n",
      "Tentative: \t53\n",
      "Rejected: \t0\n",
      "Iteration: \t2 / 100\n",
      "Confirmed: \t0\n",
      "Tentative: \t53\n",
      "Rejected: \t0\n",
      "Iteration: \t3 / 100\n",
      "Confirmed: \t0\n",
      "Tentative: \t53\n",
      "Rejected: \t0\n",
      "Iteration: \t4 / 100\n",
      "Confirmed: \t0\n",
      "Tentative: \t53\n",
      "Rejected: \t0\n",
      "Iteration: \t5 / 100\n",
      "Confirmed: \t0\n",
      "Tentative: \t53\n",
      "Rejected: \t0\n",
      "Iteration: \t6 / 100\n",
      "Confirmed: \t0\n",
      "Tentative: \t53\n",
      "Rejected: \t0\n",
      "Iteration: \t7 / 100\n",
      "Confirmed: \t0\n",
      "Tentative: \t53\n",
      "Rejected: \t0\n",
      "Iteration: \t8 / 100\n",
      "Confirmed: \t10\n",
      "Tentative: \t9\n",
      "Rejected: \t34\n",
      "Iteration: \t9 / 100\n",
      "Confirmed: \t10\n",
      "Tentative: \t9\n",
      "Rejected: \t34\n",
      "Iteration: \t10 / 100\n",
      "Confirmed: \t10\n",
      "Tentative: \t9\n",
      "Rejected: \t34\n",
      "Iteration: \t11 / 100\n",
      "Confirmed: \t10\n",
      "Tentative: \t9\n",
      "Rejected: \t34\n",
      "Iteration: \t12 / 100\n",
      "Confirmed: \t10\n",
      "Tentative: \t9\n",
      "Rejected: \t34\n",
      "Iteration: \t13 / 100\n",
      "Confirmed: \t10\n",
      "Tentative: \t9\n",
      "Rejected: \t34\n",
      "Iteration: \t14 / 100\n",
      "Confirmed: \t10\n",
      "Tentative: \t9\n",
      "Rejected: \t34\n",
      "Iteration: \t15 / 100\n",
      "Confirmed: \t10\n",
      "Tentative: \t9\n",
      "Rejected: \t34\n",
      "Iteration: \t16 / 100\n",
      "Confirmed: \t10\n",
      "Tentative: \t7\n",
      "Rejected: \t36\n",
      "Iteration: \t17 / 100\n",
      "Confirmed: \t10\n",
      "Tentative: \t7\n",
      "Rejected: \t36\n",
      "Iteration: \t18 / 100\n",
      "Confirmed: \t10\n",
      "Tentative: \t7\n",
      "Rejected: \t36\n",
      "Iteration: \t19 / 100\n",
      "Confirmed: \t10\n",
      "Tentative: \t6\n",
      "Rejected: \t37\n",
      "Iteration: \t20 / 100\n",
      "Confirmed: \t10\n",
      "Tentative: \t6\n",
      "Rejected: \t37\n",
      "Iteration: \t21 / 100\n",
      "Confirmed: \t10\n",
      "Tentative: \t6\n",
      "Rejected: \t37\n",
      "Iteration: \t22 / 100\n",
      "Confirmed: \t10\n",
      "Tentative: \t6\n",
      "Rejected: \t37\n",
      "Iteration: \t23 / 100\n",
      "Confirmed: \t10\n",
      "Tentative: \t6\n",
      "Rejected: \t37\n",
      "Iteration: \t24 / 100\n",
      "Confirmed: \t10\n",
      "Tentative: \t6\n",
      "Rejected: \t37\n",
      "Iteration: \t25 / 100\n",
      "Confirmed: \t10\n",
      "Tentative: \t6\n",
      "Rejected: \t37\n",
      "Iteration: \t26 / 100\n",
      "Confirmed: \t10\n",
      "Tentative: \t6\n",
      "Rejected: \t37\n",
      "Iteration: \t27 / 100\n",
      "Confirmed: \t10\n",
      "Tentative: \t6\n",
      "Rejected: \t37\n",
      "Iteration: \t28 / 100\n",
      "Confirmed: \t10\n",
      "Tentative: \t6\n",
      "Rejected: \t37\n",
      "Iteration: \t29 / 100\n",
      "Confirmed: \t10\n",
      "Tentative: \t3\n",
      "Rejected: \t40\n",
      "Iteration: \t30 / 100\n",
      "Confirmed: \t10\n",
      "Tentative: \t3\n",
      "Rejected: \t40\n",
      "Iteration: \t31 / 100\n",
      "Confirmed: \t10\n",
      "Tentative: \t3\n",
      "Rejected: \t40\n",
      "Iteration: \t32 / 100\n",
      "Confirmed: \t10\n",
      "Tentative: \t0\n",
      "Rejected: \t43\n",
      "\n",
      "\n",
      "BorutaPy finished running.\n",
      "\n",
      "Iteration: \t33 / 100\n",
      "Confirmed: \t10\n",
      "Tentative: \t0\n",
      "Rejected: \t43\n"
     ]
    }
   ],
   "source": [
    "from boruta import BorutaPy\n",
    "from sklearn.ensemble import RandomForestClassifier\n",
    "\n",
    "boruta_feature_selector = BorutaPy(RandomForestClassifier(), n_estimators='auto', verbose=2, random_state=4242, max_iter = 100, perc = 50)\n",
    "fs = boruta_feature_selector.fit(X.values, y[\"Win\"].values.ravel())"
   ]
  },
  {
   "cell_type": "code",
   "execution_count": 121,
   "metadata": {},
   "outputs": [],
   "source": [
    "X = X.loc[:, fs.support_ == 1]"
   ]
  },
  {
   "cell_type": "code",
   "execution_count": 147,
   "metadata": {},
   "outputs": [],
   "source": [
    "X_train, X_test, y_train, y_test = train_test_split(X, y, test_size=0.25, random_state=42)"
   ]
  },
  {
   "cell_type": "code",
   "execution_count": 148,
   "metadata": {},
   "outputs": [],
   "source": [
    "from imblearn.under_sampling import RandomUnderSampler\n",
    "rus = RandomUnderSampler(random_state=0)\n",
    "\n",
    "X_train, y_train2 = rus.fit_resample(X_train, y_train['Win'])"
   ]
  },
  {
   "cell_type": "code",
   "execution_count": 22,
   "metadata": {},
   "outputs": [],
   "source": [
    "from sklearn.model_selection import cross_val_score, cross_val_predict,RepeatedKFold, train_test_split, RandomizedSearchCV\n",
    "from sklearn.metrics import auc, accuracy_score, confusion_matrix, precision_score\n",
    "import xgboost as xgb\n",
    "import numpy as np\n",
    "from sklearn.ensemble import RandomForestClassifier\n",
    "import matplotlib.pyplot as plt\n",
    "from xgboost import plot_importance\n",
    "from xgboost import XGBRanker \n",
    "import math\n",
    "from sklearn.preprocessing import MinMaxScaler"
   ]
  },
  {
   "cell_type": "code",
   "execution_count": 149,
   "metadata": {},
   "outputs": [],
   "source": [
    "param_grid = {\n",
    "        \n",
    "        'silent': [False],\n",
    "        'max_depth': [3,6,8,10,15],\n",
    "        'learning_rate': [0.001, 0.01, 0.05 ,0.1, 0.2],\n",
    "        'subsample': [0.5, 0.6, 0.7, 0.8, 0.9, 1.0],\n",
    "        'colsample_bytree': [0.4, 0.5, 0.6, 0.7, 0.8, 0.9],\n",
    "        'colsample_bylevel': [0.4, 0.5, 0.6, 0.7, 0.8, 0.9],\n",
    "        'min_child_weight': [0.5, 1.0, 3.0, 5.0, 7.0, 10.0],\n",
    "        'gamma': [0, 0.25, 0.5, 1.0],\n",
    "        'reg_lambda': [0.1, 1.0, 5.0, 10.0, 50.0, 100.0],\n",
    "        'n_estimators': [100,200,600], \n",
    "        'scale_pos_weight':[1,3,5,8] }\n",
    "\n",
    "\n",
    "clf = xgb.XGBClassifier(objective = 'binary:logistic',nthread = 7)\n",
    "\n",
    "\n",
    "Random_search = RandomizedSearchCV(clf, param_distributions = param_grid, n_iter = 100,scoring = 'precision',cv = 4)\n",
    "\n",
    "Search_result = Random_search.fit(X_train,y_train2)"
   ]
  },
  {
   "cell_type": "code",
   "execution_count": 150,
   "metadata": {},
   "outputs": [],
   "source": [
    "clf = Search_result.best_estimator_"
   ]
  },
  {
   "cell_type": "code",
   "execution_count": 154,
   "metadata": {},
   "outputs": [
    {
     "data": {
      "text/plain": [
       "array([[3307,  250],\n",
       "       [1533,  337]])"
      ]
     },
     "execution_count": 154,
     "metadata": {},
     "output_type": "execute_result"
    }
   ],
   "source": [
    "test_preds = clf.predict_proba(X_test)\n",
    "\n",
    "bets = np.where((test_preds[:,1] > 0.5) & (y_test[\"Industry SP\"] > 2), 1,0)\n",
    "\n",
    "confusion_matrix(bets, y_test[\"Win\"])\n"
   ]
  },
  {
   "cell_type": "code",
   "execution_count": 155,
   "metadata": {},
   "outputs": [
    {
     "name": "stdout",
     "output_type": "stream",
     "text": [
      "Profit = -286.2799999999984 pts  Number of bets = 1870 which is 208.0 per day and ROI = -15.31 % and SR = 18.0 %\n"
     ]
    }
   ],
   "source": [
    "PL = sum(y_test.loc[(bets == 1) & (y_test.loc[:,'Win'] == 1),'Industry SP']) - (bets==1).sum()\n",
    "SR = len(y_test.loc[(bets == 1) & (y_test['Win'] == 1),])/(bets==1).sum() *100\n",
    "ROI = PL/(bets==1).sum() * 100\n",
    "\n",
    "print('Profit =', PL ,\"pts\",' Number of bets =',(bets==1).sum(), 'which is',\n",
    "      round((bets==1).sum()/9), 'per day','and ROI =',round(ROI,2),\"%\" ,\"and SR =\",\n",
    "      round(SR,1),\"%\", sep = None)"
   ]
  },
  {
   "cell_type": "code",
   "execution_count": 144,
   "metadata": {},
   "outputs": [
    {
     "ename": "NameError",
     "evalue": "name 'prob_win' is not defined",
     "output_type": "error",
     "traceback": [
      "\u001b[0;31m---------------------------------------------------------------------------\u001b[0m",
      "\u001b[0;31mNameError\u001b[0m                                 Traceback (most recent call last)",
      "\u001b[0;32m<ipython-input-144-5ebb514b4dba>\u001b[0m in \u001b[0;36m<module>\u001b[0;34m\u001b[0m\n\u001b[0;32m----> 1\u001b[0;31m \u001b[0moddsProbs\u001b[0m \u001b[0;34m=\u001b[0m \u001b[0mpd\u001b[0m\u001b[0;34m.\u001b[0m\u001b[0mDataFrame\u001b[0m\u001b[0;34m(\u001b[0m\u001b[0;34m{\u001b[0m\u001b[0;34m'probs_pred'\u001b[0m\u001b[0;34m:\u001b[0m \u001b[0mprob_win\u001b[0m\u001b[0;34m[\u001b[0m\u001b[0;34m:\u001b[0m\u001b[0;34m,\u001b[0m\u001b[0;36m1\u001b[0m\u001b[0;34m]\u001b[0m\u001b[0;34m,\u001b[0m \u001b[0;34m'probs_odds'\u001b[0m\u001b[0;34m:\u001b[0m \u001b[0mlist\u001b[0m\u001b[0;34m(\u001b[0m\u001b[0;36m1\u001b[0m\u001b[0;34m/\u001b[0m\u001b[0mHrPredictors\u001b[0m\u001b[0;34m[\u001b[0m\u001b[0;34m\"Industry SP\"\u001b[0m\u001b[0;34m]\u001b[0m\u001b[0;34m)\u001b[0m\u001b[0;34m}\u001b[0m\u001b[0;34m,\u001b[0m \u001b[0mcolumns\u001b[0m\u001b[0;34m=\u001b[0m\u001b[0;34m[\u001b[0m\u001b[0;34m'probs_pred'\u001b[0m\u001b[0;34m,\u001b[0m \u001b[0;34m'probs_odds'\u001b[0m\u001b[0;34m]\u001b[0m\u001b[0;34m)\u001b[0m\u001b[0;34m\u001b[0m\u001b[0;34m\u001b[0m\u001b[0m\n\u001b[0m",
      "\u001b[0;31mNameError\u001b[0m: name 'prob_win' is not defined"
     ]
    }
   ],
   "source": [
    "oddsProbs = pd.DataFrame({'probs_pred': prob_win[:,1], 'probs_odds': list(1/HrPredictors[\"Industry SP\"])}, columns=['probs_pred', 'probs_odds'])"
   ]
  },
  {
   "cell_type": "code",
   "execution_count": 267,
   "metadata": {},
   "outputs": [
    {
     "data": {
      "text/plain": [
       "Int64Index([    0,     1,     5,     9,    20,    29,    45,    48,    49,\n",
       "               51,\n",
       "            ...\n",
       "            21664, 21669, 21670, 21671, 21673, 21675, 21683, 21685, 21693,\n",
       "            21699],\n",
       "           dtype='int64', length=6243)"
      ]
     },
     "execution_count": 267,
     "metadata": {},
     "output_type": "execute_result"
    }
   ],
   "source": [
    "bets = oddsProbs.loc[oddsProbs['probs_pred'] > oddsProbs['probs_odds'] + 0.29,].index"
   ]
  },
  {
   "cell_type": "code",
   "execution_count": 268,
   "metadata": {},
   "outputs": [
    {
     "data": {
      "text/plain": [
       "3277.5"
      ]
     },
     "execution_count": 268,
     "metadata": {},
     "output_type": "execute_result"
    }
   ],
   "source": [
    "betframe = HrPredictors.loc[bets,]\n",
    "betframe\n",
    "betframe.loc[betframe[\"Win\"] == 1,\"Industry SP\"].sum()"
   ]
  },
  {
   "cell_type": "code",
   "execution_count": 207,
   "metadata": {},
   "outputs": [
    {
     "ename": "ValueError",
     "evalue": "operands could not be broadcast together with shapes (716,) (21706,) ",
     "output_type": "error",
     "traceback": [
      "\u001b[0;31m---------------------------------------------------------------------------\u001b[0m",
      "\u001b[0;31mValueError\u001b[0m                                Traceback (most recent call last)",
      "\u001b[0;32m<ipython-input-207-a1cd91cf6a35>\u001b[0m in \u001b[0;36m<module>\u001b[0;34m\u001b[0m\n\u001b[0;32m----> 1\u001b[0;31m \u001b[0mPL\u001b[0m \u001b[0;34m=\u001b[0m \u001b[0msum\u001b[0m\u001b[0;34m(\u001b[0m\u001b[0mHrPredictors\u001b[0m\u001b[0;34m.\u001b[0m\u001b[0mloc\u001b[0m\u001b[0;34m[\u001b[0m\u001b[0;34m(\u001b[0m\u001b[0mbets\u001b[0m \u001b[0;34m==\u001b[0m \u001b[0;36m1\u001b[0m\u001b[0;34m)\u001b[0m \u001b[0;34m&\u001b[0m \u001b[0;34m(\u001b[0m\u001b[0mHrPredictors\u001b[0m\u001b[0;34m.\u001b[0m\u001b[0mloc\u001b[0m\u001b[0;34m[\u001b[0m\u001b[0;34m:\u001b[0m\u001b[0;34m,\u001b[0m\u001b[0;34m'Win'\u001b[0m\u001b[0;34m]\u001b[0m \u001b[0;34m==\u001b[0m \u001b[0;36m1\u001b[0m\u001b[0;34m)\u001b[0m\u001b[0;34m,\u001b[0m\u001b[0;34m'Industry SP'\u001b[0m\u001b[0;34m]\u001b[0m\u001b[0;34m)\u001b[0m \u001b[0;34m-\u001b[0m \u001b[0;34m(\u001b[0m\u001b[0mbets\u001b[0m\u001b[0;34m==\u001b[0m\u001b[0;36m1\u001b[0m\u001b[0;34m)\u001b[0m\u001b[0;34m.\u001b[0m\u001b[0msum\u001b[0m\u001b[0;34m(\u001b[0m\u001b[0;34m)\u001b[0m\u001b[0;34m\u001b[0m\u001b[0;34m\u001b[0m\u001b[0m\n\u001b[0m\u001b[1;32m      2\u001b[0m \u001b[0mSR\u001b[0m \u001b[0;34m=\u001b[0m \u001b[0mlen\u001b[0m\u001b[0;34m(\u001b[0m\u001b[0mHrPredictors\u001b[0m\u001b[0;34m.\u001b[0m\u001b[0mloc\u001b[0m\u001b[0;34m[\u001b[0m\u001b[0;34m(\u001b[0m\u001b[0mbets\u001b[0m \u001b[0;34m==\u001b[0m \u001b[0;36m1\u001b[0m\u001b[0;34m)\u001b[0m \u001b[0;34m&\u001b[0m \u001b[0;34m(\u001b[0m\u001b[0mHrPredictors\u001b[0m\u001b[0;34m[\u001b[0m\u001b[0;34m'Win'\u001b[0m\u001b[0;34m]\u001b[0m \u001b[0;34m==\u001b[0m \u001b[0;36m1\u001b[0m\u001b[0;34m)\u001b[0m\u001b[0;34m,\u001b[0m\u001b[0;34m]\u001b[0m\u001b[0;34m)\u001b[0m\u001b[0;34m/\u001b[0m\u001b[0;34m(\u001b[0m\u001b[0mbets\u001b[0m\u001b[0;34m==\u001b[0m\u001b[0;36m1\u001b[0m\u001b[0;34m)\u001b[0m\u001b[0;34m.\u001b[0m\u001b[0msum\u001b[0m\u001b[0;34m(\u001b[0m\u001b[0;34m)\u001b[0m \u001b[0;34m*\u001b[0m\u001b[0;36m100\u001b[0m\u001b[0;34m\u001b[0m\u001b[0;34m\u001b[0m\u001b[0m\n\u001b[1;32m      3\u001b[0m \u001b[0mROI\u001b[0m \u001b[0;34m=\u001b[0m \u001b[0mPL\u001b[0m\u001b[0;34m/\u001b[0m\u001b[0;34m(\u001b[0m\u001b[0mbets\u001b[0m\u001b[0;34m==\u001b[0m\u001b[0;36m1\u001b[0m\u001b[0;34m)\u001b[0m\u001b[0;34m.\u001b[0m\u001b[0msum\u001b[0m\u001b[0;34m(\u001b[0m\u001b[0;34m)\u001b[0m \u001b[0;34m*\u001b[0m \u001b[0;36m100\u001b[0m\u001b[0;34m\u001b[0m\u001b[0;34m\u001b[0m\u001b[0m\n\u001b[1;32m      4\u001b[0m \u001b[0;34m\u001b[0m\u001b[0m\n\u001b[1;32m      5\u001b[0m print('Profit =', PL ,\"pts\",' Number of bets =',(bets==1).sum(), 'which is',\n",
      "\u001b[0;32m/opt/anaconda3/envs/myenv/lib/python3.8/site-packages/pandas/core/series.py\u001b[0m in \u001b[0;36m__array_ufunc__\u001b[0;34m(self, ufunc, method, *inputs, **kwargs)\u001b[0m\n\u001b[1;32m    633\u001b[0m \u001b[0;34m\u001b[0m\u001b[0m\n\u001b[1;32m    634\u001b[0m         \u001b[0;31m# for binary ops, use our custom dunder methods\u001b[0m\u001b[0;34m\u001b[0m\u001b[0;34m\u001b[0m\u001b[0;34m\u001b[0m\u001b[0m\n\u001b[0;32m--> 635\u001b[0;31m         result = ops.maybe_dispatch_ufunc_to_dunder_op(\n\u001b[0m\u001b[1;32m    636\u001b[0m             \u001b[0mself\u001b[0m\u001b[0;34m,\u001b[0m \u001b[0mufunc\u001b[0m\u001b[0;34m,\u001b[0m \u001b[0mmethod\u001b[0m\u001b[0;34m,\u001b[0m \u001b[0;34m*\u001b[0m\u001b[0minputs\u001b[0m\u001b[0;34m,\u001b[0m \u001b[0;34m**\u001b[0m\u001b[0mkwargs\u001b[0m\u001b[0;34m\u001b[0m\u001b[0;34m\u001b[0m\u001b[0m\n\u001b[1;32m    637\u001b[0m         )\n",
      "\u001b[0;32mpandas/_libs/ops_dispatch.pyx\u001b[0m in \u001b[0;36mpandas._libs.ops_dispatch.maybe_dispatch_ufunc_to_dunder_op\u001b[0;34m()\u001b[0m\n",
      "\u001b[0;32m/opt/anaconda3/envs/myenv/lib/python3.8/site-packages/pandas/core/ops/common.py\u001b[0m in \u001b[0;36mnew_method\u001b[0;34m(self, other)\u001b[0m\n\u001b[1;32m     62\u001b[0m         \u001b[0mother\u001b[0m \u001b[0;34m=\u001b[0m \u001b[0mitem_from_zerodim\u001b[0m\u001b[0;34m(\u001b[0m\u001b[0mother\u001b[0m\u001b[0;34m)\u001b[0m\u001b[0;34m\u001b[0m\u001b[0;34m\u001b[0m\u001b[0m\n\u001b[1;32m     63\u001b[0m \u001b[0;34m\u001b[0m\u001b[0m\n\u001b[0;32m---> 64\u001b[0;31m         \u001b[0;32mreturn\u001b[0m \u001b[0mmethod\u001b[0m\u001b[0;34m(\u001b[0m\u001b[0mself\u001b[0m\u001b[0;34m,\u001b[0m \u001b[0mother\u001b[0m\u001b[0;34m)\u001b[0m\u001b[0;34m\u001b[0m\u001b[0;34m\u001b[0m\u001b[0m\n\u001b[0m\u001b[1;32m     65\u001b[0m \u001b[0;34m\u001b[0m\u001b[0m\n\u001b[1;32m     66\u001b[0m     \u001b[0;32mreturn\u001b[0m \u001b[0mnew_method\u001b[0m\u001b[0;34m\u001b[0m\u001b[0;34m\u001b[0m\u001b[0m\n",
      "\u001b[0;32m/opt/anaconda3/envs/myenv/lib/python3.8/site-packages/pandas/core/ops/__init__.py\u001b[0m in \u001b[0;36mwrapper\u001b[0;34m(self, other)\u001b[0m\n\u001b[1;32m    547\u001b[0m         \u001b[0mrvalues\u001b[0m \u001b[0;34m=\u001b[0m \u001b[0mextract_array\u001b[0m\u001b[0;34m(\u001b[0m\u001b[0mother\u001b[0m\u001b[0;34m,\u001b[0m \u001b[0mextract_numpy\u001b[0m\u001b[0;34m=\u001b[0m\u001b[0;32mTrue\u001b[0m\u001b[0;34m)\u001b[0m\u001b[0;34m\u001b[0m\u001b[0;34m\u001b[0m\u001b[0m\n\u001b[1;32m    548\u001b[0m \u001b[0;34m\u001b[0m\u001b[0m\n\u001b[0;32m--> 549\u001b[0;31m         \u001b[0mres_values\u001b[0m \u001b[0;34m=\u001b[0m \u001b[0mlogical_op\u001b[0m\u001b[0;34m(\u001b[0m\u001b[0mlvalues\u001b[0m\u001b[0;34m,\u001b[0m \u001b[0mrvalues\u001b[0m\u001b[0;34m,\u001b[0m \u001b[0mop\u001b[0m\u001b[0;34m)\u001b[0m\u001b[0;34m\u001b[0m\u001b[0;34m\u001b[0m\u001b[0m\n\u001b[0m\u001b[1;32m    550\u001b[0m         \u001b[0;32mreturn\u001b[0m \u001b[0m_construct_result\u001b[0m\u001b[0;34m(\u001b[0m\u001b[0mself\u001b[0m\u001b[0;34m,\u001b[0m \u001b[0mres_values\u001b[0m\u001b[0;34m,\u001b[0m \u001b[0mindex\u001b[0m\u001b[0;34m=\u001b[0m\u001b[0mself\u001b[0m\u001b[0;34m.\u001b[0m\u001b[0mindex\u001b[0m\u001b[0;34m,\u001b[0m \u001b[0mname\u001b[0m\u001b[0;34m=\u001b[0m\u001b[0mres_name\u001b[0m\u001b[0;34m)\u001b[0m\u001b[0;34m\u001b[0m\u001b[0;34m\u001b[0m\u001b[0m\n\u001b[1;32m    551\u001b[0m \u001b[0;34m\u001b[0m\u001b[0m\n",
      "\u001b[0;32m/opt/anaconda3/envs/myenv/lib/python3.8/site-packages/pandas/core/ops/array_ops.py\u001b[0m in \u001b[0;36mlogical_op\u001b[0;34m(left, right, op)\u001b[0m\n\u001b[1;32m    364\u001b[0m         \u001b[0mfiller\u001b[0m \u001b[0;34m=\u001b[0m \u001b[0mfill_int\u001b[0m \u001b[0;32mif\u001b[0m \u001b[0mis_self_int_dtype\u001b[0m \u001b[0;32mand\u001b[0m \u001b[0mis_other_int_dtype\u001b[0m \u001b[0;32melse\u001b[0m \u001b[0mfill_bool\u001b[0m\u001b[0;34m\u001b[0m\u001b[0;34m\u001b[0m\u001b[0m\n\u001b[1;32m    365\u001b[0m \u001b[0;34m\u001b[0m\u001b[0m\n\u001b[0;32m--> 366\u001b[0;31m         \u001b[0mres_values\u001b[0m \u001b[0;34m=\u001b[0m \u001b[0mna_logical_op\u001b[0m\u001b[0;34m(\u001b[0m\u001b[0mlvalues\u001b[0m\u001b[0;34m,\u001b[0m \u001b[0mrvalues\u001b[0m\u001b[0;34m,\u001b[0m \u001b[0mop\u001b[0m\u001b[0;34m)\u001b[0m\u001b[0;34m\u001b[0m\u001b[0;34m\u001b[0m\u001b[0m\n\u001b[0m\u001b[1;32m    367\u001b[0m         \u001b[0mres_values\u001b[0m \u001b[0;34m=\u001b[0m \u001b[0mfiller\u001b[0m\u001b[0;34m(\u001b[0m\u001b[0mres_values\u001b[0m\u001b[0;34m)\u001b[0m  \u001b[0;31m# type: ignore\u001b[0m\u001b[0;34m\u001b[0m\u001b[0;34m\u001b[0m\u001b[0m\n\u001b[1;32m    368\u001b[0m \u001b[0;34m\u001b[0m\u001b[0m\n",
      "\u001b[0;32m/opt/anaconda3/envs/myenv/lib/python3.8/site-packages/pandas/core/ops/array_ops.py\u001b[0m in \u001b[0;36mna_logical_op\u001b[0;34m(x, y, op)\u001b[0m\n\u001b[1;32m    272\u001b[0m         \u001b[0;31m# Then Cases where this goes through without raising include:\u001b[0m\u001b[0;34m\u001b[0m\u001b[0;34m\u001b[0m\u001b[0;34m\u001b[0m\u001b[0m\n\u001b[1;32m    273\u001b[0m         \u001b[0;31m#  (xint or xbool) and (yint or bool)\u001b[0m\u001b[0;34m\u001b[0m\u001b[0;34m\u001b[0m\u001b[0;34m\u001b[0m\u001b[0m\n\u001b[0;32m--> 274\u001b[0;31m         \u001b[0mresult\u001b[0m \u001b[0;34m=\u001b[0m \u001b[0mop\u001b[0m\u001b[0;34m(\u001b[0m\u001b[0mx\u001b[0m\u001b[0;34m,\u001b[0m \u001b[0my\u001b[0m\u001b[0;34m)\u001b[0m\u001b[0;34m\u001b[0m\u001b[0;34m\u001b[0m\u001b[0m\n\u001b[0m\u001b[1;32m    275\u001b[0m     \u001b[0;32mexcept\u001b[0m \u001b[0mTypeError\u001b[0m\u001b[0;34m:\u001b[0m\u001b[0;34m\u001b[0m\u001b[0;34m\u001b[0m\u001b[0m\n\u001b[1;32m    276\u001b[0m         \u001b[0;32mif\u001b[0m \u001b[0misinstance\u001b[0m\u001b[0;34m(\u001b[0m\u001b[0my\u001b[0m\u001b[0;34m,\u001b[0m \u001b[0mnp\u001b[0m\u001b[0;34m.\u001b[0m\u001b[0mndarray\u001b[0m\u001b[0;34m)\u001b[0m\u001b[0;34m:\u001b[0m\u001b[0;34m\u001b[0m\u001b[0;34m\u001b[0m\u001b[0m\n",
      "\u001b[0;32m/opt/anaconda3/envs/myenv/lib/python3.8/site-packages/pandas/core/ops/roperator.py\u001b[0m in \u001b[0;36mrand_\u001b[0;34m(left, right)\u001b[0m\n\u001b[1;32m     50\u001b[0m \u001b[0;34m\u001b[0m\u001b[0m\n\u001b[1;32m     51\u001b[0m \u001b[0;32mdef\u001b[0m \u001b[0mrand_\u001b[0m\u001b[0;34m(\u001b[0m\u001b[0mleft\u001b[0m\u001b[0;34m,\u001b[0m \u001b[0mright\u001b[0m\u001b[0;34m)\u001b[0m\u001b[0;34m:\u001b[0m\u001b[0;34m\u001b[0m\u001b[0;34m\u001b[0m\u001b[0m\n\u001b[0;32m---> 52\u001b[0;31m     \u001b[0;32mreturn\u001b[0m \u001b[0moperator\u001b[0m\u001b[0;34m.\u001b[0m\u001b[0mand_\u001b[0m\u001b[0;34m(\u001b[0m\u001b[0mright\u001b[0m\u001b[0;34m,\u001b[0m \u001b[0mleft\u001b[0m\u001b[0;34m)\u001b[0m\u001b[0;34m\u001b[0m\u001b[0;34m\u001b[0m\u001b[0m\n\u001b[0m\u001b[1;32m     53\u001b[0m \u001b[0;34m\u001b[0m\u001b[0m\n\u001b[1;32m     54\u001b[0m \u001b[0;34m\u001b[0m\u001b[0m\n",
      "\u001b[0;31mValueError\u001b[0m: operands could not be broadcast together with shapes (716,) (21706,) "
     ]
    }
   ],
   "source": [
    "PL = sum(HrPredictors.loc[(bets == 1) & (HrPredictors.loc[:,'Win'] == 1),'Industry SP']) - (bets==1).sum()\n",
    "SR = len(HrPredictors.loc[(bets == 1) & (HrPredictors['Win'] == 1),])/(bets==1).sum() *100\n",
    "ROI = PL/(bets==1).sum() * 100\n",
    "\n",
    "print('Profit =', PL ,\"pts\",' Number of bets =',(bets==1).sum(), 'which is',\n",
    "      round((bets==1).sum()/9), 'per day','and ROI =',round(ROI,2),\"%\" ,\"and SR =\",\n",
    "      round(SR,1),\"%\", sep = None)"
   ]
  },
  {
   "cell_type": "code",
   "execution_count": 235,
   "metadata": {},
   "outputs": [],
   "source": [
    "fit = clf.fit(X,y)"
   ]
  },
  {
   "cell_type": "code",
   "execution_count": 236,
   "metadata": {},
   "outputs": [
    {
     "data": {
      "image/png": "[encoded data removed]",
      "text/plain": [
       "<Figure size 432x288 with 1 Axes>"
      ]
     },
     "metadata": {
      "needs_background": "light"
     },
     "output_type": "display_data"
    }
   ],
   "source": [
    "importances = fit.feature_importances_\n",
    "\n",
    "plot_importance(fit)\n",
    "plt.show()\n"
   ]
  },
  {
   "cell_type": "code",
   "execution_count": 237,
   "metadata": {},
   "outputs": [
    {
     "data": {
      "text/plain": [
       "{'LTO_SR_POS': 193,\n",
       " 'SP Fav': 1740,\n",
       " 'ROI_ALL': 54,\n",
       " 'RANK': 36,\n",
       " 'HORSE_TYPE': 88,\n",
       " 'PROB': 374,\n",
       " 'O_CLASS': 16,\n",
       " 'RUNNERS': 349,\n",
       " 'J_SCORE': 122,\n",
       " 'AE_50': 17,\n",
       " 'LAST_RAN': 59,\n",
       " 'TOT_RUNS': 128,\n",
       " 'RUNS_ALL': 46,\n",
       " 'RATING': 82,\n",
       " 'LTO_SP_RUN': 75,\n",
       " 'TF2_84': 24,\n",
       " 'GENDER': 12,\n",
       " 'RACE_TYPE': 98,\n",
       " 'PLC_28': 27,\n",
       " 'PLC_50': 94,\n",
       " 'PLC_ALL': 35,\n",
       " 'LTO_POS': 55,\n",
       " 'RUNS_28': 31,\n",
       " 'DS_WIN': 17,\n",
       " 'S_PARETO': 2,\n",
       " 'G_3': 39,\n",
       " 'TFI': 58,\n",
       " 'AE_ALL': 12,\n",
       " 'T_SCORE': 40,\n",
       " 'DRAWN': 7,\n",
       " 'AGES': 2,\n",
       " 'AE_28': 33,\n",
       " 'CONDITIONS': 3,\n",
       " 'TF2_14': 19,\n",
       " 'HEADGEAR': 11,\n",
       " 'S_SCORE': 38,\n",
       " 'ROI_28': 13,\n",
       " 'TF2_28': 19,\n",
       " 'PRIZE_1': 4,\n",
       " 'WEIGHT': 17,\n",
       " 'RIDER_TYPE': 1,\n",
       " 'TF2_7': 18,\n",
       " 'ALLOWANCE': 5,\n",
       " 'ROI_50': 20,\n",
       " 'TF2_365': 15,\n",
       " 'RS_WIN': 4,\n",
       " 'AGE': 5,\n",
       " 'GENDERS': 4,\n",
       " 'J_PARETO': 2,\n",
       " 'TRACK_TYPE': 1,\n",
       " 'DISTANCE': 2}"
      ]
     },
     "execution_count": 237,
     "metadata": {},
     "output_type": "execute_result"
    }
   ],
   "source": [
    "fit.get_booster().get_score(importance_type='weight')"
   ]
  }
 ],
 "metadata": {
  "kernelspec": {
   "display_name": "Python 3",
   "language": "python",
   "name": "python3"
  },
  "language_info": {
   "codemirror_mode": {
    "name": "ipython",
    "version": 3
   },
   "file_extension": ".py",
   "mimetype": "text/x-python",
   "name": "python",
   "nbconvert_exporter": "python",
   "pygments_lexer": "ipython3",
   "version": "3.7.6"
  }
 },
 "nbformat": 4,
 "nbformat_minor": 2
}
