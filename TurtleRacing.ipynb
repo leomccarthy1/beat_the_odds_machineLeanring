{
 "cells": [
  {
   "cell_type": "markdown",
   "metadata": {},
   "source": [
    "# Data processing "
   ]
  },
  {
   "cell_type": "markdown",
   "metadata": {},
   "source": [
    "Import racing stats and results"
   ]
  },
  {
   "cell_type": "code",
   "execution_count": 130,
   "metadata": {},
   "outputs": [],
   "source": [
    "import pandas as pd\n",
    "\n",
    "HrData = pd.read_csv(\"/Users/leomccarthy/Documents/Projects/Horse_racing/Bet Turtle/MasterStat.csv\", delimiter=',', header = 0) "
   ]
  },
  {
   "cell_type": "markdown",
   "metadata": {},
   "source": [
    "Remove non-runners "
   ]
  },
  {
   "cell_type": "code",
   "execution_count": 131,
   "metadata": {},
   "outputs": [],
   "source": [
    "HrData = HrData.loc[HrData['Status'] == 'Runner',]\n",
    "\n",
    "HrData = HrData.assign(Win=0)\n",
    "HrData.loc[HrData['Position'] == 1, 'Win'] = 1\n",
    "\n",
    "HrData[\"HWM\"].fillna(0,inplace = True)\n",
    "HrData.dropna(subset=['Position'], inplace = True)\n",
    "\n",
    "#HrData[\"gid\"] = HrData[\"Date\"] + HrData[\"Time\"]\n",
    "#HrData['gid'] = le.fit_transform(HrData['gid'])\n",
    "#HrData.sort_values(\"gid\", inplace = True)\n",
    "\n",
    "#groups = np.array(HrData.gid.value_counts(sort = False))\n",
    "#print(HrData[['gid','Course',\"Time\"]].to_string())\n",
    "\n"
   ]
  },
  {
   "cell_type": "markdown",
   "metadata": {},
   "source": [
    "Combine some feature strings to generate a unique Race ID for each race"
   ]
  },
  {
   "cell_type": "code",
   "execution_count": 132,
   "metadata": {},
   "outputs": [],
   "source": [
    "HrData[\"RaceID\"] = HrData[\"Date\"] + HrData[\"Course\"] + HrData[\"Time\"]\n",
    "HrData[\"RaceID\"] = HrData[\"RaceID\"].astype('category')"
   ]
  },
  {
   "cell_type": "markdown",
   "metadata": {},
   "source": [
    "Using some limited domain knowlegde, generate a range of features that attempt to represent the average ability of all the horses in each race. This is a posisble technique to overcome the problem that the absolute ability of a horse is potentialy of far less importance than the relative ability compared to other horses in the race "
   ]
  },
  {
   "cell_type": "code",
   "execution_count": 133,
   "metadata": {},
   "outputs": [],
   "source": [
    "races = HrData[\"RaceID\"].cat.categories"
   ]
  },
  {
   "cell_type": "code",
   "execution_count": 134,
   "metadata": {},
   "outputs": [],
   "source": [
    "for race in races:\n",
    "    HrData.loc[HrData[\"RaceID\"] == race,\"mean_form\"] = HrData.loc[HrData[\"RaceID\"] == race,\"Form\"].mean()\n",
    "    HrData.loc[HrData[\"RaceID\"] == race,\"mean_last_ran\"] = HrData.loc[HrData[\"RaceID\"] == race,\"LastRan\"].mean()\n",
    "    HrData.loc[HrData[\"RaceID\"] == race,\"mean_last_won\"] = HrData.loc[HrData[\"RaceID\"] == race,\"LastWon\"].mean()\n",
    "    HrData.loc[HrData[\"RaceID\"] == race,\"mean_or\"] = HrData.loc[HrData[\"RaceID\"] == race,\"OR\"].mean()\n",
    "    HrData.loc[HrData[\"RaceID\"] == race,\"mean_last_or\"] = HrData.loc[HrData[\"RaceID\"] == race,\"Last_OR\"].mean()\n",
    "    HrData.loc[HrData[\"RaceID\"] == race,\"mean_hwm\"] = HrData.loc[HrData[\"RaceID\"] == race,\"HWM\"].mean()\n",
    "    HrData.loc[HrData[\"RaceID\"] == race,\"mean_speed\"] = HrData.loc[HrData[\"RaceID\"] == race,\"Speed\"].mean()\n",
    "    HrData.loc[HrData[\"RaceID\"] == race,\"mean_runs\"] = HrData.loc[HrData[\"RaceID\"] == race,\"Runs\"].mean()\n",
    "    HrData.loc[HrData[\"RaceID\"] == race,\"mean_tcstk\"] = HrData.loc[HrData[\"RaceID\"] == race,\"TCrseStrk\"].mean()\n",
    "    HrData.loc[HrData[\"RaceID\"] == race,\"mean_vibes\"] = HrData.loc[HrData[\"RaceID\"] == race,\"Vibes\"].mean()\n",
    "    HrData.loc[HrData[\"RaceID\"] == race,\"mode_type\"] = HrData.loc[HrData[\"RaceID\"] == race,\"Type\"].mode()\n",
    "    HrData.loc[HrData[\"RaceID\"] == race,\"mean_prize\"] = HrData.loc[HrData[\"RaceID\"] == race,\"HTotPrize\"].mean()\n",
    "    HrData.loc[HrData[\"RaceID\"] == race,\"mean_fitness\"] = HrData.loc[HrData[\"RaceID\"] == race,\"Fitness\"].mean()\n",
    "    HrData.loc[HrData[\"RaceID\"] == race,\"mean_tcruns\"] = HrData.loc[HrData[\"RaceID\"] == race,\"TCrseRun\"].mean()\n",
    "    HrData.loc[HrData[\"RaceID\"] == race,\"mean_ttstrk\"] = HrData.loc[HrData[\"RaceID\"] == race,\"TRTypeStrk\"].mean()\n",
    "    HrData.loc[HrData[\"RaceID\"] == race,\"mean_ttrun\"] = HrData.loc[HrData[\"RaceID\"] == race,\"TRTypeRun\"].mean()\n",
    "    HrData.loc[HrData[\"RaceID\"] == race,\"mean_jcstrk\"] = HrData.loc[HrData[\"RaceID\"] == race,\"JCrseStrk\"].mean()\n",
    "    HrData.loc[HrData[\"RaceID\"] == race,\"mean_jcrun\"] = HrData.loc[HrData[\"RaceID\"] == race,\"JCrseRun\"].mean()\n",
    "    "
   ]
  },
  {
   "cell_type": "code",
   "execution_count": 135,
   "metadata": {},
   "outputs": [],
   "source": [
    "HrPredictors = HrData.drop([\"Date\",\"Course\", \"Time\",\"Saddle\",\"FormLine\",\"Name\",\"Odds\",\"Trainer\",\"Jockey\",\"Owner\",\n",
    "                           \"Sire\",\"Status\",\"RaceComment\",\"Casualty\",\"Travel\",\"Shortlist\",\"Tip\",\"RaceID\"\n",
    "                           ], axis = 1)\n",
    "\n",
    "\n",
    "HrPredictors = HrPredictors.fillna(\"NotA\")\n",
    "\n"
   ]
  },
  {
   "cell_type": "markdown",
   "metadata": {},
   "source": [
    "We now need to encode our categorical features, using label encoder. "
   ]
  },
  {
   "cell_type": "code",
   "execution_count": 136,
   "metadata": {},
   "outputs": [],
   "source": [
    "from sklearn import preprocessing\n",
    "\n",
    "cat_cols = HrPredictors.columns[HrPredictors.dtypes==object].tolist()\n",
    "le = preprocessing.LabelEncoder()\n",
    "\n",
    "HrPredictors[cat_cols] = HrPredictors[cat_cols].apply(lambda col: \n",
    "                                                      le.fit_transform(col))\n",
    "\n",
    "\n"
   ]
  },
  {
   "cell_type": "code",
   "execution_count": 10,
   "metadata": {},
   "outputs": [],
   "source": [
    "#import numpy as np \n",
    "#HrPredictors[\"Pos\"] = np.where((HrPredictors[\"Position\"] > 14) & (HrPredictors[\"Position\"] < 25) , 15,HrPredictors[\"Position\"])\n",
    "#HrPredictors[\"Pos\"] = np.where((HrPredictors[\"Pos\"] > 10) & (HrPredictors[\"Pos\"] < 15) , 10,HrPredictors[\"Pos\"])"
   ]
  },
  {
   "cell_type": "markdown",
   "metadata": {},
   "source": [
    "## Train - test \n",
    "\n",
    "A random train test split is not valid for in this instance, random splits would result in data leakage and a \"look-forward\" bias. For example, given we want to predict the porbability of a horse winning any given race, if training data included information on that horses perfromance in a future race this would result in issues given that factors such as racing class and racing weight are directly influenced by the performance in the previous race. Thus splits must be done chronologically, we will use the 95 most recent races as a test set."
   ]
  },
  {
   "cell_type": "code",
   "execution_count": 137,
   "metadata": {},
   "outputs": [],
   "source": [
    "X_test = HrPredictors.loc[4007:4873,].drop(['Win',\"AvgOdds\",\"MinOdds\",\"MaxOdds\",\"DecOdds\",\"Position\"], axis = 1)\n",
    "y_test = HrPredictors.loc[4007:4873,\"Win\"].values.ravel()\n",
    "\n",
    "X_train = HrPredictors.loc[:4006,].drop(['Win',\"AvgOdds\",\"MinOdds\",\"MaxOdds\",\"DecOdds\",\"Position\"], axis = 1)\n",
    "y_train = HrPredictors.loc[:4006,\"Win\"].values.ravel()\n",
    "\n",
    "X_test_prices = HrPredictors.loc[4007:4873,\"AvgOdds\"]"
   ]
  },
  {
   "cell_type": "code",
   "execution_count": 138,
   "metadata": {},
   "outputs": [],
   "source": [
    "from sklearn import preprocessing \n",
    "\n",
    "x = X_train.values\n",
    "normalized = preprocessing.Normalizer().fit(x)\n",
    "\n",
    "x_train_scaled = normalized.transform(X_train)\n",
    "x_test_scaled = normalized.transform(X_test)\n",
    "\n",
    "X_train = pd.DataFrame(x_train_scaled, columns = X_train.columns)\n",
    "X_test = pd.DataFrame(x_test_scaled, columns = X_test.columns)"
   ]
  },
  {
   "cell_type": "markdown",
   "metadata": {},
   "source": [
    "# Model building "
   ]
  },
  {
   "cell_type": "markdown",
   "metadata": {},
   "source": [
    "Import machine learning moules "
   ]
  },
  {
   "cell_type": "code",
   "execution_count": 97,
   "metadata": {},
   "outputs": [],
   "source": [
    "from sklearn.model_selection import cross_val_score, cross_val_predict,StratifiedKFold,RepeatedKFold, train_test_split, RandomizedSearchCV, GridSearchCV\n",
    "from sklearn.metrics import auc, accuracy_score, confusion_matrix, precision_score\n",
    "import xgboost as xgb\n",
    "from sklearn.svm import SVC\n",
    "import numpy as np\n",
    "from sklearn.ensemble import RandomForestClassifier\n",
    "import matplotlib.pyplot as plt\n",
    "from xgboost import plot_importance\n",
    "from xgboost import XGBRanker \n",
    "from sklearn.feature_selection import SelectFromModel\n",
    "from numpy import sort\n",
    "from boruta import BorutaPy\n",
    "\n",
    "\n"
   ]
  },
  {
   "cell_type": "markdown",
   "metadata": {},
   "source": [
    "Coarse feature selection using the boruta algorithm with random forests"
   ]
  },
  {
   "cell_type": "code",
   "execution_count": 140,
   "metadata": {},
   "outputs": [
    {
     "name": "stdout",
     "output_type": "stream",
     "text": [
      "Iteration: \t1 / 100\n",
      "Confirmed: \t0\n",
      "Tentative: \t139\n",
      "Rejected: \t0\n",
      "Iteration: \t2 / 100\n",
      "Confirmed: \t0\n",
      "Tentative: \t139\n",
      "Rejected: \t0\n",
      "Iteration: \t3 / 100\n",
      "Confirmed: \t0\n",
      "Tentative: \t139\n",
      "Rejected: \t0\n",
      "Iteration: \t4 / 100\n",
      "Confirmed: \t0\n",
      "Tentative: \t139\n",
      "Rejected: \t0\n",
      "Iteration: \t5 / 100\n",
      "Confirmed: \t0\n",
      "Tentative: \t139\n",
      "Rejected: \t0\n",
      "Iteration: \t6 / 100\n",
      "Confirmed: \t0\n",
      "Tentative: \t139\n",
      "Rejected: \t0\n",
      "Iteration: \t7 / 100\n",
      "Confirmed: \t0\n",
      "Tentative: \t139\n",
      "Rejected: \t0\n",
      "Iteration: \t8 / 100\n",
      "Confirmed: \t18\n",
      "Tentative: \t56\n",
      "Rejected: \t65\n",
      "Iteration: \t9 / 100\n",
      "Confirmed: \t18\n",
      "Tentative: \t56\n",
      "Rejected: \t65\n",
      "Iteration: \t10 / 100\n",
      "Confirmed: \t18\n",
      "Tentative: \t56\n",
      "Rejected: \t65\n",
      "Iteration: \t11 / 100\n",
      "Confirmed: \t18\n",
      "Tentative: \t56\n",
      "Rejected: \t65\n",
      "Iteration: \t12 / 100\n",
      "Confirmed: \t19\n",
      "Tentative: \t44\n",
      "Rejected: \t76\n",
      "Iteration: \t13 / 100\n",
      "Confirmed: \t19\n",
      "Tentative: \t44\n",
      "Rejected: \t76\n",
      "Iteration: \t14 / 100\n",
      "Confirmed: \t19\n",
      "Tentative: \t44\n",
      "Rejected: \t76\n",
      "Iteration: \t15 / 100\n",
      "Confirmed: \t19\n",
      "Tentative: \t44\n",
      "Rejected: \t76\n",
      "Iteration: \t16 / 100\n",
      "Confirmed: \t19\n",
      "Tentative: \t38\n",
      "Rejected: \t82\n",
      "Iteration: \t17 / 100\n",
      "Confirmed: \t19\n",
      "Tentative: \t38\n",
      "Rejected: \t82\n",
      "Iteration: \t18 / 100\n",
      "Confirmed: \t19\n",
      "Tentative: \t38\n",
      "Rejected: \t82\n",
      "Iteration: \t19 / 100\n",
      "Confirmed: \t19\n",
      "Tentative: \t33\n",
      "Rejected: \t87\n",
      "Iteration: \t20 / 100\n",
      "Confirmed: \t19\n",
      "Tentative: \t33\n",
      "Rejected: \t87\n",
      "Iteration: \t21 / 100\n",
      "Confirmed: \t19\n",
      "Tentative: \t33\n",
      "Rejected: \t87\n",
      "Iteration: \t22 / 100\n",
      "Confirmed: \t20\n",
      "Tentative: \t32\n",
      "Rejected: \t87\n",
      "Iteration: \t23 / 100\n",
      "Confirmed: \t20\n",
      "Tentative: \t32\n",
      "Rejected: \t87\n",
      "Iteration: \t24 / 100\n",
      "Confirmed: \t20\n",
      "Tentative: \t31\n",
      "Rejected: \t88\n",
      "Iteration: \t25 / 100\n",
      "Confirmed: \t20\n",
      "Tentative: \t31\n",
      "Rejected: \t88\n",
      "Iteration: \t26 / 100\n",
      "Confirmed: \t20\n",
      "Tentative: \t29\n",
      "Rejected: \t90\n",
      "Iteration: \t27 / 100\n",
      "Confirmed: \t20\n",
      "Tentative: \t29\n",
      "Rejected: \t90\n",
      "Iteration: \t28 / 100\n",
      "Confirmed: \t20\n",
      "Tentative: \t29\n",
      "Rejected: \t90\n",
      "Iteration: \t29 / 100\n",
      "Confirmed: \t21\n",
      "Tentative: \t27\n",
      "Rejected: \t91\n",
      "Iteration: \t30 / 100\n",
      "Confirmed: \t21\n",
      "Tentative: \t27\n",
      "Rejected: \t91\n",
      "Iteration: \t31 / 100\n",
      "Confirmed: \t21\n",
      "Tentative: \t27\n",
      "Rejected: \t91\n",
      "Iteration: \t32 / 100\n",
      "Confirmed: \t21\n",
      "Tentative: \t25\n",
      "Rejected: \t93\n",
      "Iteration: \t33 / 100\n",
      "Confirmed: \t21\n",
      "Tentative: \t25\n",
      "Rejected: \t93\n",
      "Iteration: \t34 / 100\n",
      "Confirmed: \t21\n",
      "Tentative: \t25\n",
      "Rejected: \t93\n",
      "Iteration: \t35 / 100\n",
      "Confirmed: \t21\n",
      "Tentative: \t25\n",
      "Rejected: \t93\n",
      "Iteration: \t36 / 100\n",
      "Confirmed: \t21\n",
      "Tentative: \t25\n",
      "Rejected: \t93\n",
      "Iteration: \t37 / 100\n",
      "Confirmed: \t21\n",
      "Tentative: \t24\n",
      "Rejected: \t94\n",
      "Iteration: \t38 / 100\n",
      "Confirmed: \t21\n",
      "Tentative: \t24\n",
      "Rejected: \t94\n",
      "Iteration: \t39 / 100\n",
      "Confirmed: \t21\n",
      "Tentative: \t24\n",
      "Rejected: \t94\n",
      "Iteration: \t40 / 100\n",
      "Confirmed: \t21\n",
      "Tentative: \t23\n",
      "Rejected: \t95\n",
      "Iteration: \t41 / 100\n",
      "Confirmed: \t21\n",
      "Tentative: \t23\n",
      "Rejected: \t95\n",
      "Iteration: \t42 / 100\n",
      "Confirmed: \t21\n",
      "Tentative: \t23\n",
      "Rejected: \t95\n",
      "Iteration: \t43 / 100\n",
      "Confirmed: \t21\n",
      "Tentative: \t22\n",
      "Rejected: \t96\n",
      "Iteration: \t44 / 100\n",
      "Confirmed: \t21\n",
      "Tentative: \t22\n",
      "Rejected: \t96\n",
      "Iteration: \t45 / 100\n",
      "Confirmed: \t21\n",
      "Tentative: \t22\n",
      "Rejected: \t96\n",
      "Iteration: \t46 / 100\n",
      "Confirmed: \t21\n",
      "Tentative: \t22\n",
      "Rejected: \t96\n",
      "Iteration: \t47 / 100\n",
      "Confirmed: \t21\n",
      "Tentative: \t22\n",
      "Rejected: \t96\n",
      "Iteration: \t48 / 100\n",
      "Confirmed: \t21\n",
      "Tentative: \t22\n",
      "Rejected: \t96\n",
      "Iteration: \t49 / 100\n",
      "Confirmed: \t21\n",
      "Tentative: \t22\n",
      "Rejected: \t96\n",
      "Iteration: \t50 / 100\n",
      "Confirmed: \t21\n",
      "Tentative: \t22\n",
      "Rejected: \t96\n",
      "Iteration: \t51 / 100\n",
      "Confirmed: \t21\n",
      "Tentative: \t22\n",
      "Rejected: \t96\n",
      "Iteration: \t52 / 100\n",
      "Confirmed: \t21\n",
      "Tentative: \t22\n",
      "Rejected: \t96\n",
      "Iteration: \t53 / 100\n",
      "Confirmed: \t21\n",
      "Tentative: \t22\n",
      "Rejected: \t96\n",
      "Iteration: \t54 / 100\n",
      "Confirmed: \t21\n",
      "Tentative: \t22\n",
      "Rejected: \t96\n",
      "Iteration: \t55 / 100\n",
      "Confirmed: \t21\n",
      "Tentative: \t22\n",
      "Rejected: \t96\n",
      "Iteration: \t56 / 100\n",
      "Confirmed: \t21\n",
      "Tentative: \t22\n",
      "Rejected: \t96\n",
      "Iteration: \t57 / 100\n",
      "Confirmed: \t21\n",
      "Tentative: \t22\n",
      "Rejected: \t96\n",
      "Iteration: \t58 / 100\n",
      "Confirmed: \t21\n",
      "Tentative: \t22\n",
      "Rejected: \t96\n",
      "Iteration: \t59 / 100\n",
      "Confirmed: \t21\n",
      "Tentative: \t22\n",
      "Rejected: \t96\n",
      "Iteration: \t60 / 100\n",
      "Confirmed: \t21\n",
      "Tentative: \t22\n",
      "Rejected: \t96\n",
      "Iteration: \t61 / 100\n",
      "Confirmed: \t21\n",
      "Tentative: \t22\n",
      "Rejected: \t96\n",
      "Iteration: \t62 / 100\n",
      "Confirmed: \t21\n",
      "Tentative: \t22\n",
      "Rejected: \t96\n",
      "Iteration: \t63 / 100\n",
      "Confirmed: \t21\n",
      "Tentative: \t22\n",
      "Rejected: \t96\n",
      "Iteration: \t64 / 100\n",
      "Confirmed: \t21\n",
      "Tentative: \t22\n",
      "Rejected: \t96\n",
      "Iteration: \t65 / 100\n",
      "Confirmed: \t22\n",
      "Tentative: \t21\n",
      "Rejected: \t96\n",
      "Iteration: \t66 / 100\n",
      "Confirmed: \t22\n",
      "Tentative: \t21\n",
      "Rejected: \t96\n",
      "Iteration: \t67 / 100\n",
      "Confirmed: \t22\n",
      "Tentative: \t21\n",
      "Rejected: \t96\n",
      "Iteration: \t68 / 100\n",
      "Confirmed: \t22\n",
      "Tentative: \t21\n",
      "Rejected: \t96\n",
      "Iteration: \t69 / 100\n",
      "Confirmed: \t22\n",
      "Tentative: \t21\n",
      "Rejected: \t96\n",
      "Iteration: \t70 / 100\n",
      "Confirmed: \t22\n",
      "Tentative: \t20\n",
      "Rejected: \t97\n",
      "Iteration: \t71 / 100\n",
      "Confirmed: \t22\n",
      "Tentative: \t20\n",
      "Rejected: \t97\n",
      "Iteration: \t72 / 100\n",
      "Confirmed: \t22\n",
      "Tentative: \t20\n",
      "Rejected: \t97\n",
      "Iteration: \t73 / 100\n",
      "Confirmed: \t22\n",
      "Tentative: \t20\n",
      "Rejected: \t97\n",
      "Iteration: \t74 / 100\n",
      "Confirmed: \t22\n",
      "Tentative: \t20\n",
      "Rejected: \t97\n",
      "Iteration: \t75 / 100\n",
      "Confirmed: \t22\n",
      "Tentative: \t20\n",
      "Rejected: \t97\n",
      "Iteration: \t76 / 100\n",
      "Confirmed: \t22\n",
      "Tentative: \t20\n",
      "Rejected: \t97\n",
      "Iteration: \t77 / 100\n",
      "Confirmed: \t22\n",
      "Tentative: \t20\n",
      "Rejected: \t97\n",
      "Iteration: \t78 / 100\n",
      "Confirmed: \t22\n",
      "Tentative: \t20\n",
      "Rejected: \t97\n",
      "Iteration: \t79 / 100\n",
      "Confirmed: \t22\n",
      "Tentative: \t20\n",
      "Rejected: \t97\n",
      "Iteration: \t80 / 100\n",
      "Confirmed: \t23\n",
      "Tentative: \t19\n",
      "Rejected: \t97\n",
      "Iteration: \t81 / 100\n",
      "Confirmed: \t23\n",
      "Tentative: \t19\n",
      "Rejected: \t97\n",
      "Iteration: \t82 / 100\n",
      "Confirmed: \t23\n",
      "Tentative: \t19\n",
      "Rejected: \t97\n",
      "Iteration: \t83 / 100\n",
      "Confirmed: \t23\n",
      "Tentative: \t19\n",
      "Rejected: \t97\n",
      "Iteration: \t84 / 100\n",
      "Confirmed: \t23\n",
      "Tentative: \t19\n",
      "Rejected: \t97\n",
      "Iteration: \t85 / 100\n",
      "Confirmed: \t23\n",
      "Tentative: \t19\n",
      "Rejected: \t97\n",
      "Iteration: \t86 / 100\n",
      "Confirmed: \t23\n",
      "Tentative: \t19\n",
      "Rejected: \t97\n",
      "Iteration: \t87 / 100\n",
      "Confirmed: \t23\n",
      "Tentative: \t19\n",
      "Rejected: \t97\n",
      "Iteration: \t88 / 100\n",
      "Confirmed: \t24\n",
      "Tentative: \t17\n",
      "Rejected: \t98\n",
      "Iteration: \t89 / 100\n",
      "Confirmed: \t24\n",
      "Tentative: \t17\n",
      "Rejected: \t98\n",
      "Iteration: \t90 / 100\n",
      "Confirmed: \t24\n",
      "Tentative: \t17\n",
      "Rejected: \t98\n",
      "Iteration: \t91 / 100\n",
      "Confirmed: \t24\n",
      "Tentative: \t17\n",
      "Rejected: \t98\n",
      "Iteration: \t92 / 100\n",
      "Confirmed: \t24\n",
      "Tentative: \t17\n",
      "Rejected: \t98\n",
      "Iteration: \t93 / 100\n",
      "Confirmed: \t25\n",
      "Tentative: \t16\n",
      "Rejected: \t98\n",
      "Iteration: \t94 / 100\n",
      "Confirmed: \t25\n",
      "Tentative: \t16\n",
      "Rejected: \t98\n",
      "Iteration: \t95 / 100\n",
      "Confirmed: \t26\n",
      "Tentative: \t15\n",
      "Rejected: \t98\n",
      "Iteration: \t96 / 100\n",
      "Confirmed: \t26\n",
      "Tentative: \t15\n",
      "Rejected: \t98\n",
      "Iteration: \t97 / 100\n",
      "Confirmed: \t26\n",
      "Tentative: \t15\n",
      "Rejected: \t98\n",
      "Iteration: \t98 / 100\n",
      "Confirmed: \t26\n",
      "Tentative: \t15\n",
      "Rejected: \t98\n",
      "Iteration: \t99 / 100\n",
      "Confirmed: \t26\n",
      "Tentative: \t15\n",
      "Rejected: \t98\n",
      "\n",
      "\n",
      "BorutaPy finished running.\n",
      "\n",
      "Iteration: \t100 / 100\n",
      "Confirmed: \t26\n",
      "Tentative: \t3\n",
      "Rejected: \t98\n"
     ]
    }
   ],
   "source": [
    "boruta_feature_selector = BorutaPy(RandomForestClassifier(), n_estimators='auto', verbose=2, random_state=4242, max_iter = 100, perc = 60)\n",
    "fs = boruta_feature_selector.fit(X_train.values, y_train)"
   ]
  },
  {
   "cell_type": "code",
   "execution_count": 141,
   "metadata": {},
   "outputs": [],
   "source": [
    "X_train = X_train.loc[:, fs.support_ == 1]\n",
    "X_test = X_test.loc[:, fs.support_ == 1]"
   ]
  },
  {
   "cell_type": "code",
   "execution_count": 142,
   "metadata": {},
   "outputs": [
    {
     "data": {
      "text/plain": [
       "['Runners',\n",
       " 'Type',\n",
       " 'Form',\n",
       " 'OddsPos',\n",
       " 'HTotPrize',\n",
       " 'TCrseStrk',\n",
       " 'T60Win',\n",
       " 'T60Strk',\n",
       " 'TJWin',\n",
       " 'TJRun',\n",
       " 'TJStrk',\n",
       " 'JRTypeStrk',\n",
       " 'J14Run',\n",
       " 'J60Win',\n",
       " 'OCrseStrk',\n",
       " 'ORTypeRun',\n",
       " 'Fitness',\n",
       " 'Ability',\n",
       " 'Vibes',\n",
       " 'Market',\n",
       " 'Rank',\n",
       " 'FormRate',\n",
       " 'mean_last_ran',\n",
       " 'mean_tcstk',\n",
       " 'mean_prize',\n",
       " 'mean_tcruns']"
      ]
     },
     "execution_count": 142,
     "metadata": {},
     "output_type": "execute_result"
    }
   ],
   "source": [
    "list(X_train.columns)"
   ]
  },
  {
   "cell_type": "markdown",
   "metadata": {},
   "source": [
    "### XGB\n",
    "Tune and fit xgboost using grid search and 4-fold cross validation "
   ]
  },
  {
   "cell_type": "code",
   "execution_count": 143,
   "metadata": {},
   "outputs": [],
   "source": [
    "param_gridXgb = {\n",
    "        \n",
    "        'silent': [False],\n",
    "        'max_depth': [2,3,6,8,10],\n",
    "        'learning_rate': [0.001, 0.01, 0.05 ,0.1, 0.2],\n",
    "        'subsample': [0.5, 0.6, 0.7, 0.8, 0.9, 1.0],\n",
    "        'colsample_bytree': [0.4, 0.5, 0.6, 0.7, 0.8],\n",
    "        'colsample_bylevel': [0.4, 0.5, 0.6, 0.7, 0.8, 0.9],\n",
    "        'min_child_weight': [0.5, 1.0, 3.0, 5.0, 7.0, 10.0],\n",
    "        'gamma': [0, 0.25, 0.5, 1.0],\n",
    "        'reg_lambda': [0.1, 1.0, 2.0, 10.0],\n",
    "        'n_estimators': [200,600,800], \n",
    "        'scale_pos_weight':[3,5] }\n",
    "\n",
    "\n",
    "clfXgb = xgb.XGBClassifier(objective = 'binary:logistic',nthread = 7, verbose = 0)\n",
    "\n",
    "\n",
    "Random_searchXgb = RandomizedSearchCV(clfXgb, param_distributions = param_gridXgb, n_iter = 100,scoring = 'f1',cv = 4)\n",
    "\n",
    "Search_resultXgb = Random_searchXgb.fit(X_train,y_train)\n",
    "\n"
   ]
  },
  {
   "cell_type": "code",
   "execution_count": 144,
   "metadata": {},
   "outputs": [],
   "source": [
    "clf_xgb = Search_resultXgb.best_estimator_\n"
   ]
  },
  {
   "cell_type": "code",
   "execution_count": 171,
   "metadata": {},
   "outputs": [],
   "source": [
    "xgb_pred = clf_xgb.predict(X_test)\n",
    "\n",
    "bets = np.where((xgb_pred == 1) & (X_test_prices > 2),1,0)"
   ]
  },
  {
   "cell_type": "code",
   "execution_count": 169,
   "metadata": {},
   "outputs": [
    {
     "data": {
      "text/plain": [
       "array([[599,  77],\n",
       "       [ 89,  18]])"
      ]
     },
     "execution_count": 169,
     "metadata": {},
     "output_type": "execute_result"
    }
   ],
   "source": [
    "#preds = np.where((probCompare[\"preds\"] > probCompare[\"odds_prob\"] + 0.05) & (probCompare[\"preds\"] > 0.5)  ,1,0)\n",
    "#odds = HrPredictors['AvgOdds'] \n",
    "#bets = np.where((xgb_probs[:,1] > 0.5),1,0)\n",
    "\n",
    "confusion_matrix(bets,y_test)"
   ]
  },
  {
   "cell_type": "code",
   "execution_count": 188,
   "metadata": {},
   "outputs": [
    {
     "name": "stdout",
     "output_type": "stream",
     "text": [
      "Profit = -37.32000000000001 pts  Number of bets = 122 which is 7.0 per day and ROI = -30.59 % and SR = 19.7 %\n"
     ]
    }
   ],
   "source": [
    "PL = sum(X_test_prices[(bets == 1) & (y_test == 1)]) - (bets==1).sum()\n",
    "SR = len(X_test_prices[(bets == 1) & (y_test == 1)])/(bets==1).sum() *100\n",
    "ROI = PL/(bets==1).sum() * 100\n",
    "\n",
    "print('Profit =', PL ,\"pts\",' Number of bets =',(bets==1).sum(), 'which is',\n",
    "      round((bets==1).sum()/17), 'per day','and ROI =',round(ROI,2),\"%\" ,\"and SR =\",\n",
    "      round(SR,1),\"%\", sep = None)"
   ]
  },
  {
   "cell_type": "code",
   "execution_count": null,
   "metadata": {},
   "outputs": [],
   "source": []
  },
  {
   "cell_type": "markdown",
   "metadata": {},
   "source": [
    "### Naive Bayes"
   ]
  },
  {
   "cell_type": "code",
   "execution_count": 192,
   "metadata": {},
   "outputs": [],
   "source": [
    "from sklearn.naive_bayes import GaussianNB\n",
    "\n",
    "gnb = GaussianNB()\n",
    "\n",
    "nb_pred = gnb.fit(X_train, y_train).predict(X_test)\n",
    "\n",
    "bets = np.where((nb_pred == 1) & (X_test_prices > 2),1,0)"
   ]
  },
  {
   "cell_type": "code",
   "execution_count": 193,
   "metadata": {},
   "outputs": [
    {
     "data": {
      "text/plain": [
       "array([[647,  87],\n",
       "       [ 41,   8]])"
      ]
     },
     "execution_count": 193,
     "metadata": {},
     "output_type": "execute_result"
    }
   ],
   "source": [
    "confusion_matrix(bets,y_test)"
   ]
  },
  {
   "cell_type": "code",
   "execution_count": 194,
   "metadata": {},
   "outputs": [
    {
     "name": "stdout",
     "output_type": "stream",
     "text": [
      "Profit = -18.15 pts  Number of bets = 49 which is 3.0 per day and ROI = -37.04 % and SR = 16.3 %\n"
     ]
    }
   ],
   "source": [
    "PL = sum(X_test_prices[(bets == 1) & (y_test == 1)]) - (bets==1).sum()\n",
    "SR = len(X_test_prices[(bets == 1) & (y_test == 1)])/(bets==1).sum() *100\n",
    "ROI = PL/(bets==1).sum() * 100\n",
    "\n",
    "print('Profit =', PL ,\"pts\",' Number of bets =',(bets==1).sum(), 'which is',\n",
    "      round((bets==1).sum()/17), 'per day','and ROI =',round(ROI,2),\"%\" ,\"and SR =\",\n",
    "      round(SR,1),\"%\", sep = None)"
   ]
  },
  {
   "cell_type": "markdown",
   "metadata": {},
   "source": [
    "## Stacking models "
   ]
  },
  {
   "cell_type": "code",
   "execution_count": 211,
   "metadata": {},
   "outputs": [],
   "source": [
    "from sklearn.ensemble import StackingClassifier\n",
    "from sklearn.linear_model import LogisticRegression\n",
    "from sklearn.neighbors import KNeighborsClassifier\n",
    "\n",
    "estimators = [\n",
    "    ('xgb', clf_xgb),\n",
    "    \n",
    "    ('nb', clf_nb)\n",
    "]\n",
    "\n",
    "stack_clf = StackingClassifier(\n",
    "    estimators=estimators, final_estimator=KNeighborsClassifier())\n",
    "\n",
    "clf = stack_clf.fit(X_train,y_train)\n"
   ]
  },
  {
   "cell_type": "code",
   "execution_count": 212,
   "metadata": {},
   "outputs": [],
   "source": [
    "stack_pred = clf.predict(X_test)\n",
    "bets = np.where((stack_pred == 1) & (X_test_prices > 2),1,0)"
   ]
  },
  {
   "cell_type": "code",
   "execution_count": 213,
   "metadata": {},
   "outputs": [
    {
     "data": {
      "text/plain": [
       "array([[661,  88],\n",
       "       [ 27,   7]])"
      ]
     },
     "execution_count": 213,
     "metadata": {},
     "output_type": "execute_result"
    }
   ],
   "source": [
    "confusion_matrix(bets,y_test)\n",
    "\n"
   ]
  },
  {
   "cell_type": "code",
   "execution_count": 214,
   "metadata": {},
   "outputs": [
    {
     "name": "stdout",
     "output_type": "stream",
     "text": [
      "Profit = -11.5 pts  Number of bets = 34 which is 2.0 per day and ROI = -33.82 % and SR = 20.6 %\n"
     ]
    }
   ],
   "source": [
    "PL = sum(X_test_prices[(bets == 1) & (y_test == 1)]) - (bets==1).sum()\n",
    "SR = len(X_test_prices[(bets == 1) & (y_test == 1)])/(bets==1).sum() *100\n",
    "ROI = PL/(bets==1).sum() * 100\n",
    "\n",
    "print('Profit =', PL ,\"pts\",' Number of bets =',(bets==1).sum(), 'which is',\n",
    "      round((bets==1).sum()/17), 'per day','and ROI =',round(ROI,2),\"%\" ,\"and SR =\",\n",
    "      round(SR,1),\"%\", sep = None)\n"
   ]
  },
  {
   "cell_type": "markdown",
   "metadata": {},
   "source": [
    "This initial attempt which includes an xgboost model, a naive bayes classifier and a stacked ensemmble of the two has resulted in a selction of bets that are un profitable. This is however far from an optimal solution and there are several adjustements that could be made.\n",
    "\n",
    "First of all this was conducted as a simple binary classification problem which does not take into account only horses from each individual race, the problem would need to be restructured in order to take this into acocunt, perhaps this is a leanring to rank problem, which is where I might look next. Nor yet has any effort been made to compare the winning probability with the available price in order to determine when a given bet may be profitable long term, rather than simply looking for the most likely winners, as market prices are likely to show this already.  "
   ]
  }
 ],
 "metadata": {
  "kernelspec": {
   "display_name": "Python 3",
   "language": "python",
   "name": "python3"
  },
  "language_info": {
   "codemirror_mode": {
    "name": "ipython",
    "version": 3
   },
   "file_extension": ".py",
   "mimetype": "text/x-python",
   "name": "python",
   "nbconvert_exporter": "python",
   "pygments_lexer": "ipython3",
   "version": "3.7.6"
  }
 },
 "nbformat": 4,
 "nbformat_minor": 2
}
